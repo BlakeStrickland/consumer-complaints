{
 "cells": [
  {
   "cell_type": "code",
   "execution_count": 16,
   "metadata": {
    "collapsed": false
   },
   "outputs": [
    {
     "name": "stdout",
     "output_type": "stream",
     "text": [
      "                       Product  Complaint ID\n",
      "0              Debt collection       1177167\n",
      "1              Debt collection       1177166\n",
      "2              Debt collection       1177165\n",
      "3              Debt collection       1177164\n",
      "4              Debt collection       1177163\n",
      "5              Debt collection       1177162\n",
      "6                  Credit card       1177154\n",
      "7              Debt collection       1177143\n",
      "8              Debt collection       1177140\n",
      "9              Debt collection       1177139\n",
      "10             Debt collection       1177136\n",
      "11     Bank account or service       1177128\n",
      "12             Debt collection       1177125\n",
      "13             Debt collection       1177124\n",
      "14             Debt collection       1177116\n",
      "15             Debt collection       1177114\n",
      "16            Credit reporting       1177196\n",
      "17             Debt collection       1177113\n",
      "18             Debt collection       1177112\n",
      "19                 Credit card       1177101\n",
      "20     Bank account or service       1177100\n",
      "21            Credit reporting       1177095\n",
      "22            Credit reporting       1177091\n",
      "23                    Mortgage       1177085\n",
      "24                    Mortgage       1177077\n",
      "25                    Mortgage       1177066\n",
      "26             Money transfers       1177062\n",
      "27     Bank account or service       1177057\n",
      "28     Bank account or service       1177056\n",
      "29             Debt collection       1177037\n",
      "...                        ...           ...\n",
      "11513                 Mortgage       1136225\n",
      "11514         Credit reporting       1136223\n",
      "11515         Credit reporting       1136222\n",
      "11516         Credit reporting       1136221\n",
      "11517          Debt collection       1136220\n",
      "11518                 Mortgage       1136219\n",
      "11519                 Mortgage       1136218\n",
      "11520         Credit reporting       1136212\n",
      "11521         Credit reporting       1136211\n",
      "11522         Credit reporting       1136210\n",
      "11523                 Mortgage       1136208\n",
      "11524          Debt collection       1136205\n",
      "11525              Credit card       1136710\n",
      "11526          Debt collection       1136200\n",
      "11527         Credit reporting       1136195\n",
      "11528         Credit reporting       1136194\n",
      "11529         Credit reporting       1136193\n",
      "11530                 Mortgage       1136192\n",
      "11531              Credit card       1136190\n",
      "11532              Credit card       1136188\n",
      "11533            Consumer loan       1136185\n",
      "11534                 Mortgage       1136183\n",
      "11535          Debt collection       1136180\n",
      "11536          Debt collection       1136175\n",
      "11537         Credit reporting       1136173\n",
      "11538                 Mortgage       1136172\n",
      "11539                 Mortgage       1136170\n",
      "11540                 Mortgage       1136169\n",
      "11541                 Mortgage       1136162\n",
      "11542                 Mortgage       1136158\n",
      "\n",
      "[11543 rows x 2 columns]\n"
     ]
    }
   ],
   "source": [
    "import numpy as np\n",
    "import pandas as pd\n",
    "from pandas import DataFrame, Series\n",
    "\n",
    "complaints = pd.read_csv('complaints_dec_2014.csv')\n",
    "\n",
    "\n",
    "complaints_by_product = complaints[['Product','Complaint ID']].copy()\n",
    "print(complaints_by_product)"
   ]
  },
  {
   "cell_type": "code",
   "execution_count": 24,
   "metadata": {
    "collapsed": false
   },
   "outputs": [],
   "source": [
    "cbp = complaints_by_product.rename(columns={'Complaint ID': 'ID'}).copy()"
   ]
  },
  {
   "cell_type": "code",
   "execution_count": 29,
   "metadata": {
    "collapsed": false
   },
   "outputs": [
    {
     "data": {
      "text/plain": [
       "pandas.core.frame.DataFrame"
      ]
     },
     "execution_count": 29,
     "metadata": {},
     "output_type": "execute_result"
    }
   ],
   "source": [
    "type(cbp)"
   ]
  },
  {
   "cell_type": "code",
   "execution_count": 38,
   "metadata": {
    "collapsed": false
   },
   "outputs": [],
   "source": [
    "c = cbp.groupby(\"Product\").size()"
   ]
  },
  {
   "cell_type": "code",
   "execution_count": 45,
   "metadata": {
    "collapsed": false
   },
   "outputs": [
    {
     "data": {
      "text/plain": [
       "Product\n",
       "Mortgage                   3002\n",
       "Debt collection            2942\n",
       "Credit reporting           2113\n",
       "Bank account or service    1136\n",
       "Credit card                1100\n",
       "Consumer loan               578\n",
       "Student loan                340\n",
       "Payday loan                 141\n",
       "Money transfers             107\n",
       "Prepaid card                 70\n",
       "Other financial service      14\n",
       "dtype: int64"
      ]
     },
     "execution_count": 45,
     "metadata": {},
     "output_type": "execute_result"
    }
   ],
   "source": [
    "c.sort_values(ascending=False)"
   ]
  },
  {
   "cell_type": "code",
   "execution_count": 46,
   "metadata": {
    "collapsed": false
   },
   "outputs": [
    {
     "data": {
      "text/plain": [
       "Company\n",
       "Bank of America        766\n",
       "Equifax                737\n",
       "Experian               675\n",
       "TransUnion             604\n",
       "Wells Fargo            598\n",
       "JPMorgan Chase         545\n",
       "Ocwen                  408\n",
       "Citibank               403\n",
       "Nationstar Mortgage    357\n",
       "Capital One            252\n",
       "dtype: int64"
      ]
     },
     "execution_count": 46,
     "metadata": {},
     "output_type": "execute_result"
    }
   ],
   "source": [
    "complaints = pd.read_csv('complaints_dec_2014.csv')\n",
    "complaints_by_product = complaints[['Company','Complaint ID']].copy()\n",
    "cbp = complaints_by_product.rename(columns={'Complaint ID': 'ID'}).copy()\n",
    "c = cbp.groupby(\"Company\").size()\n",
    "c.sort_values(ascending=False).head(10)"
   ]
  },
  {
   "cell_type": "code",
   "execution_count": 47,
   "metadata": {
    "collapsed": false
   },
   "outputs": [
    {
     "data": {
      "text/plain": [
       "Company response\n",
       "Closed with explanation            8185\n",
       "Closed with non-monetary relief    1253\n",
       "In progress                        1056\n",
       "Closed with monetary relief         643\n",
       "Closed                              239\n",
       "Untimely response                   167\n",
       "dtype: int64"
      ]
     },
     "execution_count": 47,
     "metadata": {},
     "output_type": "execute_result"
    }
   ],
   "source": [
    "complaints = pd.read_csv('complaints_dec_2014.csv')\n",
    "complaints_by_product = complaints[['Company response','Complaint ID']].copy()\n",
    "cbp = complaints_by_product.rename(columns={'Complaint ID': 'ID'}).copy()\n",
    "c = cbp.groupby(\"Company response\").size()\n",
    "c.sort_values(ascending=False)"
   ]
  },
  {
   "cell_type": "code",
   "execution_count": null,
   "metadata": {
    "collapsed": true
   },
   "outputs": [],
   "source": []
  }
 ],
 "metadata": {
  "kernelspec": {
   "display_name": "Python 3",
   "language": "python",
   "name": "python3"
  },
  "language_info": {
   "codemirror_mode": {
    "name": "ipython",
    "version": 3
   },
   "file_extension": ".py",
   "mimetype": "text/x-python",
   "name": "python",
   "nbconvert_exporter": "python",
   "pygments_lexer": "ipython3",
   "version": "3.5.1"
  }
 },
 "nbformat": 4,
 "nbformat_minor": 0
}
