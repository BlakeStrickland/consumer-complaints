{
 "cells": [
  {
   "cell_type": "code",
   "execution_count": 16,
   "metadata": {
    "collapsed": false
   },
   "outputs": [
    {
     "name": "stdout",
     "output_type": "stream",
     "text": [
      "                       Product  Complaint ID\n",
      "0              Debt collection       1177167\n",
      "1              Debt collection       1177166\n",
      "2              Debt collection       1177165\n",
      "3              Debt collection       1177164\n",
      "4              Debt collection       1177163\n",
      "5              Debt collection       1177162\n",
      "6                  Credit card       1177154\n",
      "7              Debt collection       1177143\n",
      "8              Debt collection       1177140\n",
      "9              Debt collection       1177139\n",
      "10             Debt collection       1177136\n",
      "11     Bank account or service       1177128\n",
      "12             Debt collection       1177125\n",
      "13             Debt collection       1177124\n",
      "14             Debt collection       1177116\n",
      "15             Debt collection       1177114\n",
      "16            Credit reporting       1177196\n",
      "17             Debt collection       1177113\n",
      "18             Debt collection       1177112\n",
      "19                 Credit card       1177101\n",
      "20     Bank account or service       1177100\n",
      "21            Credit reporting       1177095\n",
      "22            Credit reporting       1177091\n",
      "23                    Mortgage       1177085\n",
      "24                    Mortgage       1177077\n",
      "25                    Mortgage       1177066\n",
      "26             Money transfers       1177062\n",
      "27     Bank account or service       1177057\n",
      "28     Bank account or service       1177056\n",
      "29             Debt collection       1177037\n",
      "...                        ...           ...\n",
      "11513                 Mortgage       1136225\n",
      "11514         Credit reporting       1136223\n",
      "11515         Credit reporting       1136222\n",
      "11516         Credit reporting       1136221\n",
      "11517          Debt collection       1136220\n",
      "11518                 Mortgage       1136219\n",
      "11519                 Mortgage       1136218\n",
      "11520         Credit reporting       1136212\n",
      "11521         Credit reporting       1136211\n",
      "11522         Credit reporting       1136210\n",
      "11523                 Mortgage       1136208\n",
      "11524          Debt collection       1136205\n",
      "11525              Credit card       1136710\n",
      "11526          Debt collection       1136200\n",
      "11527         Credit reporting       1136195\n",
      "11528         Credit reporting       1136194\n",
      "11529         Credit reporting       1136193\n",
      "11530                 Mortgage       1136192\n",
      "11531              Credit card       1136190\n",
      "11532              Credit card       1136188\n",
      "11533            Consumer loan       1136185\n",
      "11534                 Mortgage       1136183\n",
      "11535          Debt collection       1136180\n",
      "11536          Debt collection       1136175\n",
      "11537         Credit reporting       1136173\n",
      "11538                 Mortgage       1136172\n",
      "11539                 Mortgage       1136170\n",
      "11540                 Mortgage       1136169\n",
      "11541                 Mortgage       1136162\n",
      "11542                 Mortgage       1136158\n",
      "\n",
      "[11543 rows x 2 columns]\n"
     ]
    }
   ],
   "source": [
    "import numpy as np\n",
    "import pandas as pd\n",
    "from pandas import DataFrame, Series\n",
    "\n",
    "complaints = pd.read_csv('complaints_dec_2014.csv')\n",
    "\n",
    "\n",
    "complaints_by_product = complaints[['Product','Complaint ID']].copy()\n",
    "print(complaints_by_product)"
   ]
  },
  {
   "cell_type": "code",
   "execution_count": 24,
   "metadata": {
    "collapsed": false
   },
   "outputs": [],
   "source": [
    "cbp = complaints_by_product.rename(columns={'Complaint ID': 'ID'}).copy()"
   ]
  },
  {
   "cell_type": "code",
   "execution_count": 29,
   "metadata": {
    "collapsed": false
   },
   "outputs": [
    {
     "data": {
      "text/plain": [
       "pandas.core.frame.DataFrame"
      ]
     },
     "execution_count": 29,
     "metadata": {},
     "output_type": "execute_result"
    }
   ],
   "source": [
    "type(cbp)"
   ]
  },
  {
   "cell_type": "code",
   "execution_count": 38,
   "metadata": {
    "collapsed": false
   },
   "outputs": [],
   "source": [
    "c = cbp.groupby(\"Product\").size()"
   ]
  },
  {
   "cell_type": "code",
   "execution_count": 45,
   "metadata": {
    "collapsed": false
   },
   "outputs": [
    {
     "data": {
      "text/plain": [
       "Product\n",
       "Mortgage                   3002\n",
       "Debt collection            2942\n",
       "Credit reporting           2113\n",
       "Bank account or service    1136\n",
       "Credit card                1100\n",
       "Consumer loan               578\n",
       "Student loan                340\n",
       "Payday loan                 141\n",
       "Money transfers             107\n",
       "Prepaid card                 70\n",
       "Other financial service      14\n",
       "dtype: int64"
      ]
     },
     "execution_count": 45,
     "metadata": {},
     "output_type": "execute_result"
    }
   ],
   "source": [
    "c.sort_values(ascending=False)"
   ]
  },
  {
   "cell_type": "code",
   "execution_count": 46,
   "metadata": {
    "collapsed": false
   },
   "outputs": [
    {
     "data": {
      "text/plain": [
       "Company\n",
       "Bank of America        766\n",
       "Equifax                737\n",
       "Experian               675\n",
       "TransUnion             604\n",
       "Wells Fargo            598\n",
       "JPMorgan Chase         545\n",
       "Ocwen                  408\n",
       "Citibank               403\n",
       "Nationstar Mortgage    357\n",
       "Capital One            252\n",
       "dtype: int64"
      ]
     },
     "execution_count": 46,
     "metadata": {},
     "output_type": "execute_result"
    }
   ],
   "source": [
    "complaints = pd.read_csv('complaints_dec_2014.csv')\n",
    "complaints_by_product = complaints[['Company','Complaint ID']].copy()\n",
    "cbp = complaints_by_product.rename(columns={'Complaint ID': 'ID'}).copy()\n",
    "c = cbp.groupby(\"Company\").size()\n",
    "c.sort_values(ascending=False).head(10)"
   ]
  },
  {
   "cell_type": "code",
   "execution_count": 107,
   "metadata": {
    "collapsed": false
   },
   "outputs": [
    {
     "data": {
      "text/plain": [
       "Company response\n",
       "Closed with explanation            8185\n",
       "Closed with non-monetary relief    1253\n",
       "In progress                        1056\n",
       "Closed with monetary relief         643\n",
       "Closed                              239\n",
       "Untimely response                   167\n",
       "dtype: int64"
      ]
     },
     "execution_count": 107,
     "metadata": {},
     "output_type": "execute_result"
    }
   ],
   "source": [
    "complaints = pd.read_csv('complaints_dec_2014.csv')\n",
    "complaints_by_product = complaints[['Company response','Complaint ID']].copy()\n",
    "\n",
    "\n",
    "\n",
    "cbp = complaints_by_product.rename(columns={'Complaint ID': 'ID'}).copy()\n",
    "c = cbp.groupby(\"Company response\").size()\n",
    "c.sort_values(ascending=False)\n"
   ]
  },
  {
   "cell_type": "code",
   "execution_count": 134,
   "metadata": {
    "collapsed": false
   },
   "outputs": [
    {
     "data": {
      "text/plain": [
       "days_of_week\n",
       "1    2580\n",
       "0    2544\n",
       "2    2289\n",
       "3    1634\n",
       "4    1446\n",
       "5     543\n",
       "6     507\n",
       "dtype: int64"
      ]
     },
     "execution_count": 134,
     "metadata": {},
     "output_type": "execute_result"
    }
   ],
   "source": [
    "complaints = pd.read_csv('complaints_dec_2014.csv')\n",
    "complaints_by_product = complaints[['Date received','Complaint ID']].copy()\n",
    "cbp = complaints_by_product.rename(columns={'Complaint ID': 'ID'}).copy()\n",
    "cbp.index = pd.to_datetime(cbp[\"Date received\"], format='%m/%d/%Y')\n",
    "\n",
    "cbp['days_of_week'] = cbp.index.to_series().map(lambda d: d.weekday())\n",
    "\n",
    "c = cbp.groupby('days_of_week').size()\n",
    "c = c.sort_values(ascending=False)\n",
    "deuce = c.copy()\n",
    "c"
   ]
  },
  {
   "cell_type": "code",
   "execution_count": 131,
   "metadata": {
    "collapsed": false
   },
   "outputs": [
    {
     "data": {
      "text/plain": [
       "{'Friday': 361.5,\n",
       " 'Monday': 508.80000000000001,\n",
       " 'Saturday': 135.75,\n",
       " 'Sunday': 126.75,\n",
       " 'Thursday': 408.5,\n",
       " 'Tuesday': 516.0,\n",
       " 'Wednesday': 457.80000000000001}"
      ]
     },
     "execution_count": 131,
     "metadata": {},
     "output_type": "execute_result"
    }
   ],
   "source": [
    "new_dict = {}\n",
    "for key, value in c.items():\n",
    "    if key == 0:\n",
    "        new_dict['Monday'] = (value/5)\n",
    "    elif key == 1:\n",
    "        new_dict['Tuesday'] = (value/5)\n",
    "    elif key == 2:\n",
    "        new_dict['Wednesday'] = (value/5)\n",
    "    elif key == 3:\n",
    "        new_dict['Thursday'] = (value/4)\n",
    "    elif key == 4:\n",
    "        new_dict['Friday'] = (value/4)\n",
    "    elif key == 5:\n",
    "        new_dict['Saturday'] = (value/4)\n",
    "    elif key == 6:\n",
    "        new_dict['Sunday'] = (value/4)\n",
    "new_dict"
   ]
  },
  {
   "cell_type": "code",
   "execution_count": 128,
   "metadata": {
    "collapsed": false
   },
   "outputs": [
    {
     "ename": "AttributeError",
     "evalue": "'Series' object has no attribute 'dayofweek'",
     "output_type": "error",
     "traceback": [
      "\u001b[0;31m---------------------------------------------------------------------------\u001b[0m",
      "\u001b[0;31mAttributeError\u001b[0m                            Traceback (most recent call last)",
      "\u001b[0;32m<ipython-input-128-90a156a49694>\u001b[0m in \u001b[0;36m<module>\u001b[0;34m()\u001b[0m\n\u001b[1;32m      1\u001b[0m \u001b[0mdayOfWeek\u001b[0m\u001b[0;34m=\u001b[0m\u001b[0;34m{\u001b[0m\u001b[0;36m0\u001b[0m\u001b[0;34m:\u001b[0m\u001b[0;34m'Monday'\u001b[0m\u001b[0;34m,\u001b[0m \u001b[0;36m1\u001b[0m\u001b[0;34m:\u001b[0m\u001b[0;34m'Tuesday'\u001b[0m\u001b[0;34m,\u001b[0m \u001b[0;36m2\u001b[0m\u001b[0;34m:\u001b[0m\u001b[0;34m'Wednesday'\u001b[0m\u001b[0;34m,\u001b[0m \u001b[0;36m3\u001b[0m\u001b[0;34m:\u001b[0m\u001b[0;34m'Thursday'\u001b[0m\u001b[0;34m,\u001b[0m \u001b[0;36m4\u001b[0m\u001b[0;34m:\u001b[0m\u001b[0;34m'Friday'\u001b[0m\u001b[0;34m,\u001b[0m \u001b[0;36m5\u001b[0m\u001b[0;34m:\u001b[0m\u001b[0;34m'Saturday'\u001b[0m\u001b[0;34m,\u001b[0m \u001b[0;36m6\u001b[0m\u001b[0;34m:\u001b[0m\u001b[0;34m'Sunday'\u001b[0m\u001b[0;34m}\u001b[0m\u001b[0;34m\u001b[0m\u001b[0m\n\u001b[0;32m----> 2\u001b[0;31m \u001b[0mcbp\u001b[0m\u001b[0;34m[\u001b[0m\u001b[0;34m'weekday'\u001b[0m\u001b[0;34m]\u001b[0m \u001b[0;34m=\u001b[0m \u001b[0mcbp\u001b[0m\u001b[0;34m[\u001b[0m\u001b[0;34m'days_of_week'\u001b[0m\u001b[0;34m]\u001b[0m\u001b[0;34m.\u001b[0m\u001b[0mdayofweek\u001b[0m\u001b[0;34m.\u001b[0m\u001b[0mmap\u001b[0m\u001b[0;34m(\u001b[0m\u001b[0mdayOfWeek\u001b[0m\u001b[0;34m)\u001b[0m\u001b[0;34m\u001b[0m\u001b[0m\n\u001b[0m",
      "\u001b[0;32m/Users/Blake/.direnv/python-3.5.1/lib/python3.5/site-packages/pandas/core/generic.py\u001b[0m in \u001b[0;36m__getattr__\u001b[0;34m(self, name)\u001b[0m\n\u001b[1;32m   2667\u001b[0m             \u001b[0;32mif\u001b[0m \u001b[0mname\u001b[0m \u001b[0;32min\u001b[0m \u001b[0mself\u001b[0m\u001b[0;34m.\u001b[0m\u001b[0m_info_axis\u001b[0m\u001b[0;34m:\u001b[0m\u001b[0;34m\u001b[0m\u001b[0m\n\u001b[1;32m   2668\u001b[0m                 \u001b[0;32mreturn\u001b[0m \u001b[0mself\u001b[0m\u001b[0;34m[\u001b[0m\u001b[0mname\u001b[0m\u001b[0;34m]\u001b[0m\u001b[0;34m\u001b[0m\u001b[0m\n\u001b[0;32m-> 2669\u001b[0;31m             \u001b[0;32mreturn\u001b[0m \u001b[0mobject\u001b[0m\u001b[0;34m.\u001b[0m\u001b[0m__getattribute__\u001b[0m\u001b[0;34m(\u001b[0m\u001b[0mself\u001b[0m\u001b[0;34m,\u001b[0m \u001b[0mname\u001b[0m\u001b[0;34m)\u001b[0m\u001b[0;34m\u001b[0m\u001b[0m\n\u001b[0m\u001b[1;32m   2670\u001b[0m \u001b[0;34m\u001b[0m\u001b[0m\n\u001b[1;32m   2671\u001b[0m     \u001b[0;32mdef\u001b[0m \u001b[0m__setattr__\u001b[0m\u001b[0;34m(\u001b[0m\u001b[0mself\u001b[0m\u001b[0;34m,\u001b[0m \u001b[0mname\u001b[0m\u001b[0;34m,\u001b[0m \u001b[0mvalue\u001b[0m\u001b[0;34m)\u001b[0m\u001b[0;34m:\u001b[0m\u001b[0;34m\u001b[0m\u001b[0m\n",
      "\u001b[0;31mAttributeError\u001b[0m: 'Series' object has no attribute 'dayofweek'"
     ]
    }
   ],
   "source": [
    "dayOfWeek={0:'Monday', 1:'Tuesday', 2:'Wednesday', 3:'Thursday', 4:'Friday', 5:'Saturday', 6:'Sunday'}\n",
    "cbp['weekday'] = cbp['days_of_week'].dayofweek.map(dayOfWeek)"
   ]
  },
  {
   "cell_type": "code",
   "execution_count": 152,
   "metadata": {
    "collapsed": false
   },
   "outputs": [
    {
     "data": {
      "text/plain": [
       "2    5\n",
       "1    5\n",
       "0    5\n",
       "6    4\n",
       "5    4\n",
       "4    4\n",
       "3    4\n",
       "dtype: int64"
      ]
     },
     "execution_count": 152,
     "metadata": {},
     "output_type": "execute_result"
    }
   ],
   "source": [
    "abc = complaints[['Date received','Complaint ID']].copy()\n",
    "xyz = abc.rename(columns={'Complaint ID': 'ID'})\n",
    "mcbd = xyz.rename(columns={'Date received': 'Date'})\n",
    "\n",
    "date_set = set(mcbd.Date)\n",
    "date_set = sorted(list(date_set))\n",
    "date_set = pd.to_datetime(date_set, format='%m/%d/%Y')\n",
    "date_set = date_set.to_series().map(lambda d: d.weekday())\n",
    "ace = date_set.value_counts()"
   ]
  },
  {
   "cell_type": "code",
   "execution_count": 155,
   "metadata": {
    "collapsed": false
   },
   "outputs": [
    {
     "data": {
      "text/plain": [
       "0    508.80\n",
       "1    516.00\n",
       "2    457.80\n",
       "3    408.50\n",
       "4    361.50\n",
       "5    135.75\n",
       "6    126.75\n",
       "dtype: float64"
      ]
     },
     "execution_count": 155,
     "metadata": {},
     "output_type": "execute_result"
    }
   ],
   "source": [
    "complaints = pd.read_csv('complaints_dec_2014.csv')\n",
    "complaints_by_product = complaints[['Date received','Complaint ID']].copy()\n",
    "cbp = complaints_by_product.rename(columns={'Complaint ID': 'ID'}).copy()\n",
    "cbp.index = pd.to_datetime(cbp[\"Date received\"], format='%m/%d/%Y')\n",
    "\n",
    "cbp['days_of_week'] = cbp.index.to_series().map(lambda d: d.weekday())\n",
    "\n",
    "c = cbp.groupby('days_of_week').size()\n",
    "c = c.sort_values(ascending=False)\n",
    "deuce = c.copy()\n",
    "c\n",
    "\n",
    "abc = complaints[['Date received','Complaint ID']].copy()\n",
    "xyz = abc.rename(columns={'Complaint ID': 'ID'})\n",
    "mcbd = xyz.rename(columns={'Date received': 'Date'})\n",
    "\n",
    "date_set = set(mcbd.Date)\n",
    "date_set = sorted(list(date_set))\n",
    "date_set = pd.to_datetime(date_set, format='%m/%d/%Y')\n",
    "date_set = date_set.to_series().map(lambda d: d.weekday())\n",
    "ace = date_set.value_counts()\n",
    "\n",
    "deuce/ace"
   ]
  },
  {
   "cell_type": "code",
   "execution_count": null,
   "metadata": {
    "collapsed": true
   },
   "outputs": [],
   "source": []
  },
  {
   "cell_type": "code",
   "execution_count": null,
   "metadata": {
    "collapsed": false
   },
   "outputs": [],
   "source": []
  },
  {
   "cell_type": "code",
   "execution_count": null,
   "metadata": {
    "collapsed": true
   },
   "outputs": [],
   "source": []
  }
 ],
 "metadata": {
  "kernelspec": {
   "display_name": "Python 3",
   "language": "python",
   "name": "python3"
  },
  "language_info": {
   "codemirror_mode": {
    "name": "ipython",
    "version": 3
   },
   "file_extension": ".py",
   "mimetype": "text/x-python",
   "name": "python",
   "nbconvert_exporter": "python",
   "pygments_lexer": "ipython3",
   "version": "3.5.1"
  }
 },
 "nbformat": 4,
 "nbformat_minor": 0
}
